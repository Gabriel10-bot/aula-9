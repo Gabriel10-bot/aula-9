{
  "nbformat": 4,
  "nbformat_minor": 0,
  "metadata": {
    "colab": {
      "provenance": [],
      "authorship_tag": "ABX9TyPsbBukdYk8LQSmsIHUJwse",
      "include_colab_link": true
    },
    "kernelspec": {
      "name": "python3",
      "display_name": "Python 3"
    },
    "language_info": {
      "name": "python"
    }
  },
  "cells": [
    {
      "cell_type": "markdown",
      "metadata": {
        "id": "view-in-github",
        "colab_type": "text"
      },
      "source": [
        "<a href=\"https://colab.research.google.com/github/Gabriel10-bot/aula-9/blob/main/Untitled0.ipynb\" target=\"_parent\"><img src=\"https://colab.research.google.com/assets/colab-badge.svg\" alt=\"Open In Colab\"/></a>"
      ]
    },
    {
      "cell_type": "code",
      "execution_count": 14,
      "metadata": {
        "colab": {
          "base_uri": "https://localhost:8080/"
        },
        "id": "bA3Y2riICmgQ",
        "outputId": "70fe9ea3-6f08-4dd1-b056-f0d179e50aa0"
      },
      "outputs": [
        {
          "output_type": "stream",
          "name": "stdout",
          "text": [
            "Valor absoluto (if-else): 10\n",
            "Valor absoluto (ternário): 10\n",
            "Somatório (for): 55\n",
            "Somatório (while): 55\n",
            "Somatório (do-while): 55\n"
          ]
        }
      ],
      "source": [
        "def abs_if_else(valor):\n",
        "    if valor < 0:\n",
        "        return -valor\n",
        "    else:\n",
        "        return valor\n",
        "\n",
        "def abs_ternario(valor):\n",
        "    return -valor if valor < 0 else valor\n",
        "\n",
        "def somatorio_for(n):\n",
        "    soma = 0\n",
        "    for i in range(n + 1):\n",
        "        soma += i\n",
        "    return soma\n",
        "\n",
        "def somatorio_while(n):\n",
        "    soma = 0\n",
        "    i = 0\n",
        "    while i <= n:\n",
        "        soma += i\n",
        "        i += 1\n",
        "    return soma\n",
        "\n",
        "def somatorio_do_while(n):\n",
        "    soma = 0\n",
        "    i = 0\n",
        "    while True:\n",
        "      soma += i\n",
        "      i += 1\n",
        "      if i > n:\n",
        "          break\n",
        "    return soma\n",
        "\n",
        "print(\"Valor absoluto (if-else):\", abs_if_else(-10))\n",
        "print(\"Valor absoluto (ternário):\", abs_ternario(-10))\n",
        "print(\"Somatório (for):\", somatorio_for(10))\n",
        "print(\"Somatório (while):\", somatorio_while(10))\n",
        "print(\"Somatório (do-while):\", somatorio_do_while(10))"
      ]
    }
  ]
}